{
 "cells": [
  {
   "cell_type": "code",
   "execution_count": 2,
   "metadata": {},
   "outputs": [],
   "source": [
    "import glob\n",
    "\n",
    "from IPython.display import Image\n",
    "import matplotlib.pyplot as plt\n",
    "import scipy.stats\n",
    "import numpy as np\n",
    "import pandas as pd\n",
    "\n",
    "import openmc\n",
    "%matplotlib inline"
   ]
  },
  {
   "cell_type": "code",
   "execution_count": 3,
   "metadata": {},
   "outputs": [],
   "source": [
    "#uranium oxide\n",
    "uo2 = openmc.Material(1, \"uo2\")\n",
    "uo2.add_nuclide('U235', 0.06,'wo')\n",
    "uo2.add_nuclide('U238', 0.803,'wo')\n",
    "uo2.add_nuclide('O16', 0.12,'wo')\n",
    "uo2.add_nuclide('Pu238', 0.001781,'wo')\n",
    "uo2.add_nuclide('Pu239', 0.08357,'wo')\n",
    "uo2.add_nuclide('Pu240', 0.033428,'wo')\n",
    "uo2.add_nuclide('Pu241', 0.011371,'wo')\n",
    "uo2.add_nuclide('Pu242', 0.00685,'wo')\n",
    "uo2.set_density('g/cm3', 11.0)\n",
    "#print(uo2)"
   ]
  },
  {
   "cell_type": "code",
   "execution_count": 4,
   "metadata": {},
   "outputs": [],
   "source": [
    "#stainless steel for clad\n",
    "stainless = openmc.Material(2, \"stainless\")\n",
    "stainless.add_element('Fe',0.74,'wo')\n",
    "stainless.add_element('Cr',0.18,'wo')\n",
    "stainless.add_element('Ni',0.08,'wo')\n",
    "stainless.set_density('g/cm3',7.92)\n",
    "#print(stainless)"
   ]
  },
  {
   "cell_type": "code",
   "execution_count": 5,
   "metadata": {},
   "outputs": [],
   "source": [
    "#gap gas hellium\n",
    "He = openmc.Material(3,\"He\")\n",
    "He.add_nuclide('He4',1.0)\n",
    "He.set_density('g/cm3',0.145)\n",
    "#print(He)\n"
   ]
  },
  {
   "cell_type": "code",
   "execution_count": 6,
   "metadata": {},
   "outputs": [],
   "source": [
    "#water\n",
    "water = openmc.Material(4,\"water\")\n",
    "water.add_nuclide('H1',2.0)\n",
    "water.add_nuclide('O16',1.0)\n",
    "water.set_density('g/cm3',1.0)\n",
    "#H2o alpha and beta cs\n",
    "water.add_s_alpha_beta('c_H_in_H2O')\n",
    "#print(water)"
   ]
  },
  {
   "cell_type": "code",
   "execution_count": 7,
   "metadata": {},
   "outputs": [],
   "source": [
    "#Na coolant\n",
    "na = openmc.Material(5,\"sodium\")\n",
    "na.add_element('Na',0.228,'wo')\n",
    "na.add_element('K',0.778,'wo')\n",
    "na.set_density('g/cm3',0.88508)    #0.968\n",
    "#print(na)"
   ]
  },
  {
   "cell_type": "code",
   "execution_count": 8,
   "metadata": {},
   "outputs": [],
   "source": [
    "#lead-Bi coolant\n",
    "lead = openmc.Material(6,\"leed\")\n",
    "lead.add_element('Pb',0.445,'wo')\n",
    "lead.add_nuclide('Bi209',0.555,'wo')\n",
    "lead.set_density('g/cm3',10.204)\n",
    "#print(lead)"
   ]
  },
  {
   "cell_type": "code",
   "execution_count": 9,
   "metadata": {},
   "outputs": [],
   "source": [
    "#control\n",
    "boron = openmc.Material(7,'boron')\n",
    "boron.add_nuclide('B10',0.3915,'wo')\n",
    "boron.add_nuclide('B11',0.3915,'wo')\n",
    "boron.add_nuclide('C0',0.217,'wo')\n",
    "boron.set_density('g/cm3',2.52)\n",
    "#print(boron)"
   ]
  },
  {
   "cell_type": "code",
   "execution_count": 10,
   "metadata": {
    "scrolled": true
   },
   "outputs": [],
   "source": [
    "#uo2_2\n",
    "uo2_2 = openmc.Material(8, \"uo2\")\n",
    "uo2_2.add_nuclide('U235', 0.03,'wo')\n",
    "uo2_2.add_nuclide('U238', 0.833,'wo')\n",
    "uo2_2.add_nuclide('O16', 0.12,'wo')\n",
    "uo2_2.add_nuclide('Pu238', 0.001781,'wo')\n",
    "uo2_2.add_nuclide('Pu239', 0.08357,'wo')\n",
    "uo2_2.add_nuclide('Pu240', 0.033428,'wo')\n",
    "uo2_2.add_nuclide('Pu241', 0.011371,'wo')\n",
    "uo2_2.add_nuclide('Pu242', 0.00685,'wo')\n",
    "uo2_2.set_density('g/cm3', 11.0)\n",
    "#print(uo2_2)"
   ]
  },
  {
   "cell_type": "code",
   "execution_count": 11,
   "metadata": {},
   "outputs": [],
   "source": [
    "#uranium\n",
    "uranium = openmc.Material(9,'uranium')\n",
    "uranium.add_nuclide('U238',1)\n",
    "uranium.set_density('g/cm3',19.05)\n",
    "#print(u238)"
   ]
  },
  {
   "cell_type": "code",
   "execution_count": 12,
   "metadata": {},
   "outputs": [],
   "source": [
    "#Be\n",
    "be=openmc.Material(10,'be')\n",
    "be.add_element('Be',1,'ao')\n",
    "be.set_density('g/cm3',1.85)\n",
    "#print(be)"
   ]
  },
  {
   "cell_type": "code",
   "execution_count": 13,
   "metadata": {},
   "outputs": [],
   "source": [
    "#BeO\n",
    "beo= openmc.Material(11,'beo')\n",
    "beo.add_element('Be',1,'ao')\n",
    "beo.add_element('O',1,'ao')\n",
    "beo.set_density('g/cm3',3.025)\n",
    "#print(beo)"
   ]
  },
  {
   "cell_type": "code",
   "execution_count": 14,
   "metadata": {},
   "outputs": [],
   "source": [
    "#graphite\n",
    "gc= openmc.Material(12,'gc')\n",
    "gc.add_element('C',1,'ao')\n",
    "gc.set_density('g/cm3',2.25)\n",
    "#print(gc)"
   ]
  },
  {
   "cell_type": "code",
   "execution_count": 15,
   "metadata": {},
   "outputs": [],
   "source": [
    "#316 s.s \n",
    "ss= openmc.Material(13,'wo')\n",
    "ss.add_element('C',0.0008,'wo')\n",
    "ss.add_element('Si',0.01,'wo')\n",
    "ss.add_element('Mn',0.02,'wo')\n",
    "ss.add_element('Cr',0.185,'wo')\n",
    "ss.add_element('Ni',0.14,'wo')\n",
    "ss.add_element('Mo',0.03,'wo')\n",
    "ss.add_element('Fe',0.6142,'wo')\n",
    "ss.set_density('g/cm3',7.92)\n",
    "#print(ss)"
   ]
  },
  {
   "cell_type": "code",
   "execution_count": 16,
   "metadata": {},
   "outputs": [],
   "source": [
    "#uo2_3\n",
    "uo2_3 = openmc.Material(14, \"uo2\")\n",
    "uo2_3.add_nuclide('U235', 0.01,'wo')\n",
    "uo2_3.add_nuclide('U238', 0.853,'wo')\n",
    "uo2_3.add_nuclide('O16', 0.12,'wo')\n",
    "uo2_3.add_nuclide('Pu238', 0.001781,'wo')\n",
    "uo2_3.add_nuclide('Pu239', 0.08357,'wo')\n",
    "uo2_3.add_nuclide('Pu240', 0.033428,'wo')\n",
    "uo2_3.add_nuclide('Pu241', 0.011371,'wo')\n",
    "uo2_3.add_nuclide('Pu242', 0.00685,'wo')\n",
    "uo2_3.set_density('g/cm3', 11.0)\n",
    "#print(uo2_2)"
   ]
  },
  {
   "cell_type": "code",
   "execution_count": 17,
   "metadata": {},
   "outputs": [],
   "source": [
    "#uo2_4\n",
    "uo2_4 = openmc.Material(15, \"uo2\")\n",
    "uo2_4.add_nuclide('U235', 0.007,'wo')\n",
    "uo2_4.add_nuclide('Pu238', 0.001781,'wo')\n",
    "uo2_4.add_nuclide('Pu239', 0.08357,'wo')\n",
    "uo2_4.add_nuclide('Pu240', 0.033428,'wo')\n",
    "uo2_4.add_nuclide('Pu241', 0.011371,'wo')\n",
    "uo2_4.add_nuclide('Pu242', 0.00685,'wo')\n",
    "uo2_4.add_nuclide('U238', 0.856,'wo')\n",
    "uo2_4.add_nuclide('O16', 0.12,'wo')\n",
    "uo2_4.set_density('g/cm3', 11.0)\n",
    "#print(uo2_2)"
   ]
  },
  {
   "cell_type": "code",
   "execution_count": 18,
   "metadata": {},
   "outputs": [],
   "source": [
    "#k\n",
    "k= openmc.Material(16)\n",
    "k.add_element('K',1.0)\n",
    "k.set_density('g/cm3',0.86)\n"
   ]
  },
  {
   "cell_type": "code",
   "execution_count": 19,
   "metadata": {},
   "outputs": [],
   "source": [
    "#na and k 1\n",
    "nak1=openmc.Material(17)\n",
    "nak1.add_element('Na',0.44)\n",
    "nak1.add_element('K',0.56)\n",
    "nak1.set_density('g/cm3',0.9084)\n"
   ]
  },
  {
   "cell_type": "code",
   "execution_count": 20,
   "metadata": {},
   "outputs": [],
   "source": [
    "#na and k 2\n",
    "nak2=openmc.Material(18)\n",
    "nak2.add_element('Na',0.228)\n",
    "nak2.add_element('K',0.772)\n",
    "nak2.set_density('g/cm3',0.88508)"
   ]
  },
  {
   "cell_type": "code",
   "execution_count": 21,
   "metadata": {},
   "outputs": [],
   "source": [
    "#create materials file\n",
    "mats = openmc.Materials([uo2,stainless,He,water,na,lead,boron,uo2_2,uo2_3,uo2_4,uranium,be,beo,gc,ss,k,nak1,nak2])\n",
    "mats.export_to_xml()\n",
    "# !cat materials.xml"
   ]
  },
  {
   "cell_type": "code",
   "execution_count": 22,
   "metadata": {},
   "outputs": [
    {
     "data": {
      "text/plain": [
       "openmc.region.Intersection"
      ]
     },
     "execution_count": 22,
     "metadata": {},
     "output_type": "execute_result"
    }
   ],
   "source": [
    "#define geometry\n",
    "#plane\n",
    "fuel_or = openmc.ZCylinder(r=0.54)\n",
    "clad_ir = openmc.ZCylinder(r=0.56)\n",
    "clad_or = openmc.ZCylinder(r=0.60)\n",
    "z1=openmc.ZPlane(z0=0)\n",
    "z2=openmc.ZPlane(z0=60)\n",
    "z3=openmc.ZPlane(z0=150)\n",
    "z4=openmc.ZPlane(z0=165)\n",
    "z5=openmc.ZPlane(z0=-0.4)\n",
    "z6=openmc.ZPlane(z0=165.4)\n",
    "z7=openmc.ZPlane(z0=82.5)\n",
    "z8=openmc.ZPlane(z0=123.95)\n",
    "z9=openmc.ZPlane(z0=41.05)\n",
    "top = openmc.ZPlane(z0=200, boundary_type='vacuum')\n",
    "bottom = openmc.ZPlane(z0=-200, boundary_type='vacuum')\n",
    "box = openmc.rectangular_prism(width=400, height=400,boundary_type='vacuum')\n",
    "type(box)"
   ]
  },
  {
   "cell_type": "code",
   "execution_count": 23,
   "metadata": {},
   "outputs": [],
   "source": [
    "#region\n",
    "fuel_region= -fuel_or& +z2& -z3\n",
    "gap_region= +fuel_or& -clad_ir& +z2& -z3\n",
    "clad_region = +clad_ir& -clad_or& +z1& -z4|-clad_or& -z1&+z5|-clad_or&-z6&+z4\n",
    "gas_region = -clad_ir& +z1& -z2|-clad_ir& -z4& +z3\n",
    "pin_region = -clad_or& +z5& -z6\n",
    "coolant_region = ~pin_region & -top& +bottom &box\n",
    "control_region = -clad_or& -z6& +z5\n",
    "steel_region = -z6& +z5\n",
    "controlvoid_region= ~control_region"
   ]
  },
  {
   "cell_type": "code",
   "execution_count": 23,
   "metadata": {},
   "outputs": [],
   "source": [
    "#cell\n",
    "fuel= openmc.Cell(1,'fuel')\n",
    "fuel.fill= uo2\n",
    "fuel.region=fuel_region\n",
    "\n",
    "fuel_2= openmc.Cell(15,'fuel2')\n",
    "fuel_2.fill= uo2_2\n",
    "fuel_2.region=fuel_region\n",
    "\n",
    "fuel_3= openmc.Cell(16,'fuel3')\n",
    "fuel_3.fill= uo2_3\n",
    "fuel_3.region=fuel_region\n",
    "\n",
    "fuel_4= openmc.Cell(17,'fuel4')\n",
    "fuel_4.fill= uo2_4\n",
    "fuel_4.region=fuel_region\n",
    "\n",
    "gap=openmc.Cell(2, 'He gap')\n",
    "gap.fill= He\n",
    "gap.region=gap_region\n",
    "\n",
    "gap_2=openmc.Cell(18, 'He gap2')\n",
    "gap_2.fill= He\n",
    "gap_2.region=gap_region\n",
    "\n",
    "gap_3=openmc.Cell(19, 'He gap3')\n",
    "gap_3.fill= He\n",
    "gap_3.region=gap_region\n",
    "\n",
    "gap_4=openmc.Cell(20, 'He gap4')\n",
    "gap_4.fill= He\n",
    "gap_4.region=gap_region\n",
    "\n",
    "clad=openmc.Cell(3, 'clad')\n",
    "clad.fill= stainless\n",
    "clad.region=clad_region\n",
    "\n",
    "clad_2=openmc.Cell(21, 'clad2')\n",
    "clad_2.fill= stainless\n",
    "clad_2.region=clad_region\n",
    "\n",
    "clad_3=openmc.Cell(22, 'clad3')\n",
    "clad_3.fill= stainless\n",
    "clad_3.region=clad_region\n",
    "\n",
    "clad_4=openmc.Cell(23, 'clad4')\n",
    "clad_4.fill= stainless\n",
    "clad_4.region=clad_region\n",
    "\n",
    "gas=openmc.Cell(4, 'gas plenum')\n",
    "gas.fill= He\n",
    "gas.region=gas_region\n",
    "\n",
    "gas_2=openmc.Cell(24, 'gas plenum2')\n",
    "gas_2.fill= He\n",
    "gas_2.region=gas_region\n",
    "\n",
    "gas_3=openmc.Cell(25, 'gas plenum3')\n",
    "gas_3.fill= He\n",
    "gas_3.region=gas_region\n",
    "\n",
    "gas_4=openmc.Cell(26, 'gas plenum4')\n",
    "gas_4.fill= He\n",
    "gas_4.region=gas_region\n",
    "\n",
    "coolant= openmc.Cell(5, 'coolant')\n",
    "coolant.fill= na\n",
    "coolant.region = coolant_region\n",
    "\n",
    "coolant_2= openmc.Cell(27, 'coolant2')\n",
    "coolant_2.fill= na\n",
    "coolant_2.region = coolant_region\n",
    "\n",
    "coolant_3= openmc.Cell(28, 'coolant3')\n",
    "coolant_3.fill= na\n",
    "coolant_3.region = coolant_region\n",
    "\n",
    "coolant_4= openmc.Cell(29, 'coolant4')\n",
    "coolant_4.fill= na\n",
    "coolant_4.region = coolant_region\n",
    "\n",
    "coolant2 = openmc.Cell(6, 'coolant2')\n",
    "coolant2.fill= na\n",
    "\n",
    "steel = openmc.Cell(7,'steel')\n",
    "steel.fill = stainless\n",
    "\n",
    "steel_2 = openmc.Cell(100,'steel2')\n",
    "steel_2.fill = stainless\n",
    "\n",
    "steel_3 = openmc.Cell(31,'steel3')\n",
    "steel_3.fill = stainless\n",
    "\n",
    "steel_4 = openmc.Cell(32,'steel4')\n",
    "steel_4.fill = stainless\n",
    "\n",
    "control = openmc.Cell(8,'control')\n",
    "control.fill = na      #boron\n",
    "control.region = control_region\n",
    "\n",
    "control_2 = openmc.Cell(51,'control2')\n",
    "control_2.fill = na      #boron\n",
    "control_2.region = control_region\n",
    "\n",
    "control_3 = openmc.Cell(52,'control3')\n",
    "control_3.fill = na      #boron\n",
    "control_3.region = control_region\n",
    "\n",
    "control_4 = openmc.Cell(53,'control4')\n",
    "control_4.fill = na      #boron\n",
    "control_4.region = control_region\n",
    "\n",
    "controlvoid = openmc.Cell(9,'controlvoid')\n",
    "controlvoid.fill= na\n",
    "controlvoid.region=controlvoid_region\n",
    "\n",
    "controlvoid_2 = openmc.Cell(36,'controlvoid2')\n",
    "controlvoid_2.fill= na\n",
    "controlvoid_2.region=controlvoid_region\n",
    "\n",
    "controlvoid_3 = openmc.Cell(37,'controlvoid3')\n",
    "controlvoid_3.fill= na\n",
    "controlvoid_3.region=controlvoid_region\n",
    "\n",
    "controlvoid_4 = openmc.Cell(38,'controlvoid4')\n",
    "controlvoid_4.fill= na\n",
    "controlvoid_4.region=controlvoid_region\n",
    "\n",
    "breedfuel = openmc.Cell(10,'breedfuel')\n",
    "breedfuel.fill= uranium\n",
    "breedfuel.region=fuel_region\n",
    "\n",
    "breedcoolant = openmc.Cell(11,'breedcoolant')\n",
    "breedcoolant.fill= na\n",
    "breedcoolant.region=coolant_region\n",
    "\n",
    "breedgas = openmc.Cell(12,'breedgas')\n",
    "breedgas.fill= He\n",
    "breedgas.region=gas_region\n",
    "\n",
    "breedgap = openmc.Cell(13,'breedgap')\n",
    "breedgap.fill= He\n",
    "breedgap.region=gap_region\n",
    "\n",
    "breedclad = openmc.Cell(14,'breedclad')\n",
    "breedclad.fill= stainless\n",
    "breedclad.region=clad_region\n"
   ]
  },
  {
   "cell_type": "code",
   "execution_count": 24,
   "metadata": {},
   "outputs": [],
   "source": [
    "#universe\n",
    "pin = openmc.Universe(cells=[fuel,gap,clad,gas,coolant])\n",
    "#pin.plot(width=(1.3, 1.3),origin=(0,0,105),pixels=(500,500))\n",
    "fuelpin = openmc.Geometry()\n",
    "fuelpin.root_universe = pin"
   ]
  },
  {
   "cell_type": "code",
   "execution_count": 22,
   "metadata": {},
   "outputs": [],
   "source": [
    "fuelpin.export_to_xml()\n",
    "#!cat geometry.xml"
   ]
  },
  {
   "cell_type": "code",
   "execution_count": 42,
   "metadata": {},
   "outputs": [],
   "source": [
    "p=openmc.Plot()\n",
    "p.filename = 'pinplot'\n",
    "p.width=(220,220)\n",
    "p.pixels=(3000,3000)\n",
    "p.origin=(0,0,105)\n",
    "p.color_by = 'material'\n",
    "p.colors = {uo2:'yellow',na:'blue',stainless:'black',He:'grey'}"
   ]
  },
  {
   "cell_type": "code",
   "execution_count": 24,
   "metadata": {},
   "outputs": [],
   "source": [
    "plots= openmc.Plots([p])\n",
    "plots.export_to_xml()\n",
    "# !cat plots.xml"
   ]
  },
  {
   "cell_type": "code",
   "execution_count": 25,
   "metadata": {},
   "outputs": [
    {
     "name": "stdout",
     "output_type": "stream",
     "text": [
      " Reading cross sections XML file...\n",
      " Reading materials XML file...\n",
      " Reading geometry XML file...\n",
      " Building neighboring cells lists for each surface...\n",
      " Reading plot XML file...\n",
      "\n",
      " =======================>     PLOTTING SUMMARY     <========================\n",
      "\n",
      " Plot ID:               1\n",
      " Plot file:             pinplot.ppm\n",
      " Universe depth:        -1\n",
      " Plot Type:             Slice\n",
      " Origin:                0.0 0.0 105.000\n",
      " Width:                 220.000 220.000\n",
      " Coloring:              Materials\n",
      " Basis:                 xy\n",
      " Pixels:                3000 3000\n",
      "\n",
      " Processing plot 1: pinplot.ppm ...\n"
     ]
    },
    {
     "data": {
      "text/plain": [
       "0"
      ]
     },
     "execution_count": 25,
     "metadata": {},
     "output_type": "execute_result"
    }
   ],
   "source": [
    "openmc.plot_geometry()"
   ]
  },
  {
   "cell_type": "code",
   "execution_count": 26,
   "metadata": {},
   "outputs": [],
   "source": [
    "#!convert pinplot.ppm pinplot.png"
   ]
  },
  {
   "cell_type": "code",
   "execution_count": 27,
   "metadata": {
    "scrolled": true
   },
   "outputs": [],
   "source": [
    "#openmc.plot_inline(p)"
   ]
  },
  {
   "cell_type": "code",
   "execution_count": 28,
   "metadata": {},
   "outputs": [],
   "source": [
    "#test of fuel pin\n",
    "point = openmc.stats.Point((0, 0, 82))\n",
    "src = openmc.Source(space=point)"
   ]
  },
  {
   "cell_type": "code",
   "execution_count": 29,
   "metadata": {},
   "outputs": [],
   "source": [
    "settings = openmc.Settings()\n",
    "settings.source = src\n",
    "settings.batches =1000                  #800\n",
    "settings.inactive =10                 # 100\n",
    "settings.particles = 10000                #5000"
   ]
  },
  {
   "cell_type": "code",
   "execution_count": 30,
   "metadata": {},
   "outputs": [],
   "source": [
    "settings.export_to_xml()\n",
    "# !cat settings.xml"
   ]
  },
  {
   "cell_type": "code",
   "execution_count": 31,
   "metadata": {},
   "outputs": [],
   "source": [
    "#tally\n",
    "cell_1 = openmc.CellFilter([fuel,gap,clad,gas,coolant,steel,coolant2,breedfuel,control,controlvoid,breedgas,breedgap,breedclad,breedcoolant,fuel_2,fuel_3,fuel_4,gap_2,gap_3,gap_4,clad_2,clad_3,clad_4,gas_2,gas_3,gas_4,coolant_2,coolant_3,coolant_4,steel_2,steel_3,steel_4,control_2,controlvoid_2,control_3,controlvoid_3,control_4,controlvoid_4])\n",
    "t = openmc.Tally(1)\n",
    "t.filters = [cell_1]"
   ]
  },
  {
   "cell_type": "code",
   "execution_count": 32,
   "metadata": {},
   "outputs": [],
   "source": [
    "#t.nuclides = ['U235','U238']\n",
    "t.scores = ['total', 'fission', 'absorption', '(n,gamma)','scatter','elastic']"
   ]
  },
  {
   "cell_type": "code",
   "execution_count": 33,
   "metadata": {},
   "outputs": [],
   "source": [
    "tallies = openmc.Tallies([t])\n",
    "tallies.export_to_xml()\n",
    "#!cat tallies.xml"
   ]
  },
  {
   "cell_type": "code",
   "execution_count": 34,
   "metadata": {},
   "outputs": [],
   "source": [
    "#openmc.run()"
   ]
  },
  {
   "cell_type": "code",
   "execution_count": 35,
   "metadata": {},
   "outputs": [],
   "source": [
    "#!cat tallies.out"
   ]
  },
  {
   "cell_type": "code",
   "execution_count": 25,
   "metadata": {},
   "outputs": [],
   "source": [
    "#assembly\n",
    "#assemebly cell\n",
    "f=openmc.Universe(name='Fuel Pin', cells=[fuel,gap,clad,gas,coolant])\n",
    "all_coolant= openmc.Universe(cells=[coolant2])\n",
    "s=openmc.Universe(cells=[steel])\n",
    "c=openmc.Universe(name='control rod',cells=[control,controlvoid])\n"
   ]
  },
  {
   "cell_type": "code",
   "execution_count": 26,
   "metadata": {},
   "outputs": [],
   "source": [
    "#lattice\n",
    "assembly = openmc.HexLattice()\n",
    "assembly.center = (0, 0)\n",
    "assembly.pitch = [1.36]\n",
    "assembly.outer=all_coolant\n",
    "assembly.universes = [[f]*48,\n",
    "                      [f]*42,\n",
    "                      [f]*36,\n",
    "                      [f]*30,\n",
    "                      [f]*24,\n",
    "                      [f]*18,\n",
    "                      [s]*12,\n",
    "                      [c]*6,\n",
    "                      [c]]\n",
    "                      "
   ]
  },
  {
   "cell_type": "code",
   "execution_count": 27,
   "metadata": {},
   "outputs": [],
   "source": [
    "# Create boundary planes to surround the geometry\n",
    "asseouter_sphere= openmc.Sphere(R=300,boundary_type='vacuum')\n",
    "asseouter_surface = openmc.ZCylinder(R=100, boundary_type='vacuum')\n",
    "min_z = openmc.ZPlane(z0=-1.4, boundary_type='vacuum')\n",
    "max_z = openmc.ZPlane(z0=+208.6, boundary_type='vacuum')\n",
    "max_z2= openmc.ZPlane(z0=+165.4, boundary_type='vacuum')\n",
    "min_z2= openmc.ZPlane(z0=-0.5,boundary_type='vacuum')"
   ]
  },
  {
   "cell_type": "code",
   "execution_count": 28,
   "metadata": {},
   "outputs": [],
   "source": [
    "# cell for assembly\n",
    "asse = openmc.Cell(77,name='asse', fill=assembly)\n",
    "c1=openmc.Cell()\n",
    "c2=openmc.Cell()\n",
    "#asse.rotation=(0.,0.,30.)\n",
    "\n",
    "# Add boundary planes\n",
    "c1.fill=all_coolant\n",
    "c1.region= +max_z2 & -asseouter_sphere\n",
    "c2.fill=all_coolant\n",
    "c2.region= -min_z2 & -asseouter_sphere\n",
    "asse.region= -asseouter_sphere& +min_z2& -max_z2\n",
    "# Create assembly Universe\n",
    "root = openmc.Universe(name='root assembly')\n",
    "root.add_cell(asse)\n",
    "root.add_cell(c1)\n",
    "root.add_cell(c2)\n",
    "rotated_cell = openmc.Cell(fill=assembly)\n",
    "rotated_universe = openmc.Universe(cells=[rotated_cell])\n",
    "asse.fill= rotated_universe\n",
    "asse.rotation = (0.,0.,30.)\n",
    "#root.plot(width=(20,20),origin=(0,0,0),pixels=(500,500),color_by='material')#,basis= 'yz')"
   ]
  },
  {
   "cell_type": "code",
   "execution_count": 29,
   "metadata": {},
   "outputs": [],
   "source": [
    "assegeom = openmc.Geometry(root)\n",
    "assegeom.export_to_xml()\n",
    "#!cat geometry.xml"
   ]
  },
  {
   "cell_type": "code",
   "execution_count": 30,
   "metadata": {},
   "outputs": [
    {
     "ename": "NameError",
     "evalue": "name 'p' is not defined",
     "output_type": "error",
     "traceback": [
      "\u001b[0;31m---------------------------------------------------------------------------\u001b[0m",
      "\u001b[0;31mNameError\u001b[0m                                 Traceback (most recent call last)",
      "\u001b[0;32m<ipython-input-30-c9ebeef5b0ef>\u001b[0m in \u001b[0;36m<module>\u001b[0;34m()\u001b[0m\n\u001b[0;32m----> 1\u001b[0;31m \u001b[0mplots\u001b[0m\u001b[0;34m=\u001b[0m \u001b[0mopenmc\u001b[0m\u001b[0;34m.\u001b[0m\u001b[0mPlots\u001b[0m\u001b[0;34m(\u001b[0m\u001b[0;34m[\u001b[0m\u001b[0mp\u001b[0m\u001b[0;34m]\u001b[0m\u001b[0;34m)\u001b[0m\u001b[0;34m\u001b[0m\u001b[0m\n\u001b[0m\u001b[1;32m      2\u001b[0m \u001b[0mplots\u001b[0m\u001b[0;34m.\u001b[0m\u001b[0mexport_to_xml\u001b[0m\u001b[0;34m(\u001b[0m\u001b[0;34m)\u001b[0m\u001b[0;34m\u001b[0m\u001b[0m\n",
      "\u001b[0;31mNameError\u001b[0m: name 'p' is not defined"
     ]
    }
   ],
   "source": [
    "plots= openmc.Plots([p])\n",
    "plots.export_to_xml()"
   ]
  },
  {
   "cell_type": "code",
   "execution_count": 149,
   "metadata": {},
   "outputs": [],
   "source": [
    "#openmc.plot_geometry()"
   ]
  },
  {
   "cell_type": "code",
   "execution_count": 41,
   "metadata": {},
   "outputs": [],
   "source": [
    "!convert pinplot.ppm assembly.png"
   ]
  },
  {
   "cell_type": "code",
   "execution_count": 159,
   "metadata": {},
   "outputs": [],
   "source": [
    "tally_assembly = openmc.Tallies()"
   ]
  },
  {
   "cell_type": "code",
   "execution_count": 160,
   "metadata": {},
   "outputs": [],
   "source": [
    "# Create mesh which will be used for tally\n",
    "mesh_assembly = openmc.Mesh()\n",
    "mesh_assembly.dimension = [100, 100]\n",
    "mesh_assembly.lower_left = [-21.76, -21.76]\n",
    "mesh_assembly.upper_right = [21.76, 21.76]"
   ]
  },
  {
   "cell_type": "code",
   "execution_count": 161,
   "metadata": {},
   "outputs": [],
   "source": [
    "# Create mesh filter for tally\n",
    "mesh_filter = openmc.MeshFilter(mesh)\n",
    "\n",
    "# Create mesh tally to score flux and fission rate\n",
    "tally = openmc.Tally(name='flux')\n",
    "tally.filters = [mesh_filter]\n",
    "tally.scores = ['flux', 'fission']\n",
    "tallies_file.append(tally)"
   ]
  },
  {
   "cell_type": "code",
   "execution_count": 162,
   "metadata": {},
   "outputs": [],
   "source": [
    "tallies_file.export_to_xml()"
   ]
  },
  {
   "cell_type": "code",
   "execution_count": 163,
   "metadata": {},
   "outputs": [],
   "source": [
    "#point2 = openmc.stats.Point((0, 0, 100))\n",
    "#src2 = openmc.Source(space=point)"
   ]
  },
  {
   "cell_type": "code",
   "execution_count": 181,
   "metadata": {},
   "outputs": [],
   "source": [
    "assetest = openmc.Settings()\n",
    "#assetest.source = src2\n",
    "assetest.batches =20                \n",
    "assetest.inactive =5                 \n",
    "assetest.particles =10000\n",
    "\n",
    "bounds = [-10, -10, -10, 10, 10, 10]\n",
    "uniform_dist = openmc.stats.Box((-10,-10,60),(10,10,70),only_fissionable=True)\n",
    "assetest.source = openmc.source.Source(space=uniform_dist)"
   ]
  },
  {
   "cell_type": "code",
   "execution_count": 194,
   "metadata": {},
   "outputs": [],
   "source": [
    "#help(openmc.stats.Box)"
   ]
  },
  {
   "cell_type": "code",
   "execution_count": 183,
   "metadata": {},
   "outputs": [],
   "source": [
    "assetest.export_to_xml()\n",
    "# !cat assetest.xml"
   ]
  },
  {
   "cell_type": "code",
   "execution_count": 28,
   "metadata": {},
   "outputs": [],
   "source": [
    "#openmc.run()"
   ]
  },
  {
   "cell_type": "code",
   "execution_count": 186,
   "metadata": {},
   "outputs": [],
   "source": [
    "# Load the statepoint file\n",
    "sp = openmc.StatePoint('statepoint.20.h5')"
   ]
  },
  {
   "cell_type": "code",
   "execution_count": 187,
   "metadata": {},
   "outputs": [
    {
     "name": "stdout",
     "output_type": "stream",
     "text": [
      "Tally\n",
      "\tID             =\t8\n",
      "\tName           =\tflux\n",
      "\tFilters        =\tMeshFilter\n",
      "\tNuclides       =\ttotal \n",
      "\tScores         =\t['flux', 'fission']\n",
      "\tEstimator      =\ttracklength\n",
      "\n"
     ]
    }
   ],
   "source": [
    "tally = sp.get_tally(scores=['flux'])\n",
    "print(tally)"
   ]
  },
  {
   "cell_type": "code",
   "execution_count": 188,
   "metadata": {},
   "outputs": [
    {
     "data": {
      "text/plain": [
       "array([[[0.14745192, 0.        ]],\n",
       "\n",
       "       [[0.14834951, 0.        ]],\n",
       "\n",
       "       [[0.15172476, 0.        ]],\n",
       "\n",
       "       ...,\n",
       "\n",
       "       [[0.14747585, 0.        ]],\n",
       "\n",
       "       [[0.14576766, 0.        ]],\n",
       "\n",
       "       [[0.14878975, 0.        ]]])"
      ]
     },
     "execution_count": 188,
     "metadata": {},
     "output_type": "execute_result"
    }
   ],
   "source": [
    "tally.sum"
   ]
  },
  {
   "cell_type": "code",
   "execution_count": 191,
   "metadata": {},
   "outputs": [
    {
     "name": "stdout",
     "output_type": "stream",
     "text": [
      "Tally\n",
      "\tID             =\t9\n",
      "\tName           =\tflux\n",
      "\tFilters        =\tMeshFilter\n",
      "\tNuclides       =\ttotal \n",
      "\tScores         =\t['flux']\n",
      "\tEstimator      =\ttracklength\n",
      "\n"
     ]
    }
   ],
   "source": [
    "flux = tally.get_slice(scores=['flux'])\n",
    "fission = tally.get_slice(scores=['fission'])\n",
    "print(flux)"
   ]
  },
  {
   "cell_type": "code",
   "execution_count": 192,
   "metadata": {},
   "outputs": [],
   "source": [
    "flux.std_dev.shape = (100, 100)\n",
    "flux.mean.shape = (100, 100)\n",
    "fission.std_dev.shape = (100, 100)\n",
    "fission.mean.shape = (100, 100)"
   ]
  },
  {
   "cell_type": "code",
   "execution_count": 193,
   "metadata": {},
   "outputs": [
    {
     "data": {
      "text/plain": [
       "<matplotlib.image.AxesImage at 0x7f8350373630>"
      ]
     },
     "execution_count": 193,
     "metadata": {},
     "output_type": "execute_result"
    },
    {
     "data": {
      "image/png": "[encoded data removed]",
      "text/plain": [
       "<Figure size 432x288 with 2 Axes>"
      ]
     },
     "metadata": {},
     "output_type": "display_data"
    }
   ],
   "source": [
    "fig = plt.subplot(121)\n",
    "fig.imshow(flux.mean)\n",
    "fig2 = plt.subplot(122)\n",
    "fig2.imshow(fission.mean)"
   ]
  },
  {
   "cell_type": "code",
   "execution_count": null,
   "metadata": {},
   "outputs": [],
   "source": []
  },
  {
   "cell_type": "code",
   "execution_count": 31,
   "metadata": {},
   "outputs": [],
   "source": [
    "f2=openmc.Universe(name='Fuel Pin2', cells=[fuel_2,gap_2,clad_2,gas_2,coolant_2])\n",
    "s2=openmc.Universe(cells=[steel_2])\n",
    "c2=openmc.Universe(name='control rod2',cells=[control_2,controlvoid_2])\n",
    "assembly_2 = openmc.HexLattice()\n",
    "assembly_2.center = (0, 0)\n",
    "assembly_2.pitch = [1.36]\n",
    "assembly_2.outer=all_coolant\n",
    "assembly_2.universes = [[f2]*48,\n",
    "                        [f2]*42,\n",
    "                        [f2]*36,\n",
    "                        [f2]*30,\n",
    "                        [f2]*24,\n",
    "                        [f2]*18,\n",
    "                        [s2]*12,\n",
    "                        [c2]*6,\n",
    "                        [c2]]\n",
    "asse2 = openmc.Cell(name='asse2', fill=assembly_2)\n",
    "c7=openmc.Cell()\n",
    "c8=openmc.Cell()\n",
    "c7.fill=all_coolant\n",
    "c7.region= +max_z2 & -asseouter_sphere\n",
    "c8.fill=all_coolant\n",
    "c8.region= -min_z2 & -asseouter_sphere\n",
    "asse2.region= -asseouter_sphere& +min_z2& -max_z2\n",
    "\n",
    "root_2 = openmc.Universe(name='root assembly2')\n",
    "root_2.add_cell(asse2)\n",
    "root_2.add_cell(c7)\n",
    "root_2.add_cell(c8)\n",
    "rotated_cell2 = openmc.Cell(fill=assembly_2)\n",
    "rotated_universe2 = openmc.Universe(cells=[rotated_cell2])\n",
    "asse2.fill= rotated_universe2\n",
    "asse2.rotation = (0.,0.,30.)\n",
    "#root_2.plot(width=(20,20),origin=(0,0,0),pixels=(500,500),color_by='material')#,basis= 'yz')"
   ]
  },
  {
   "cell_type": "code",
   "execution_count": 32,
   "metadata": {},
   "outputs": [],
   "source": [
    "f3=openmc.Universe(name='Fuel Pin3', cells=[fuel_3,gap_3,clad_3,gas_3,coolant_3])\n",
    "s3=openmc.Universe(cells=[steel_3])\n",
    "c3=openmc.Universe(name='control rod3',cells=[control_3,controlvoid_3])\n",
    "assembly_3 = openmc.HexLattice()\n",
    "assembly_3.center = (0, 0)\n",
    "assembly_3.pitch = [1.36]\n",
    "assembly_3.outer=all_coolant\n",
    "assembly_3.universes = [[f3]*48,\n",
    "                        [f3]*42,\n",
    "                        [f3]*36,\n",
    "                        [f3]*30,\n",
    "                        [f3]*24,\n",
    "                        [f3]*18,\n",
    "                        [s3]*12,\n",
    "                        [c3]*6,\n",
    "                        [c3]]\n",
    "asse3 = openmc.Cell(name='asse3', fill=assembly_3)\n",
    "c9=openmc.Cell()\n",
    "c10=openmc.Cell()\n",
    "c9.fill=all_coolant\n",
    "c9.region= +max_z2 & -asseouter_sphere\n",
    "c10.fill=all_coolant\n",
    "c10.region= -min_z2 & -asseouter_sphere\n",
    "asse3.region= -asseouter_sphere& +min_z2& -max_z2\n",
    "\n",
    "root_3 = openmc.Universe(name='root assembly3')\n",
    "root_3.add_cell(asse3)\n",
    "root_3.add_cell(c9)\n",
    "root_3.add_cell(c10)\n",
    "rotated_cell3 = openmc.Cell(fill=assembly_3)\n",
    "rotated_universe3 = openmc.Universe(cells=[rotated_cell3])\n",
    "asse3.fill= rotated_universe3\n",
    "asse3.rotation = (0.,0.,30.)\n",
    "#root_3.plot(width=(20,20),origin=(0,0,0),pixels=(500,500),color_by='material')#,basis= 'yz')"
   ]
  },
  {
   "cell_type": "code",
   "execution_count": 33,
   "metadata": {},
   "outputs": [],
   "source": [
    "f4=openmc.Universe(name='Fuel Pin4', cells=[fuel_4,gap_4,clad_4,gas_4,coolant_4])\n",
    "s4=openmc.Universe(cells=[steel_4])\n",
    "c4=openmc.Universe(name='control rod4',cells=[control_4,controlvoid_4])\n",
    "assembly_4 = openmc.HexLattice()\n",
    "assembly_4.center = (0, 0)\n",
    "assembly_4.pitch = [1.36]\n",
    "assembly_4.outer=all_coolant\n",
    "assembly_4.universes = [[f4]*48,\n",
    "                        [f4]*42,\n",
    "                        [f4]*36,\n",
    "                        [f4]*30,\n",
    "                        [f4]*24,\n",
    "                        [f4]*18,\n",
    "                        [s4]*12,\n",
    "                        [c4]*6,\n",
    "                        [c4]]\n",
    "asse4 = openmc.Cell(name='asse4', fill=assembly_4)\n",
    "c11=openmc.Cell()\n",
    "c12=openmc.Cell()\n",
    "c11.fill=all_coolant\n",
    "c11.region= +max_z2 & -asseouter_sphere\n",
    "c12.fill=all_coolant\n",
    "c12.region= -min_z2 & -asseouter_sphere\n",
    "asse4.region= -asseouter_sphere& +min_z2& -max_z2\n",
    "\n",
    "root_4 = openmc.Universe(name='root assembly4')\n",
    "root_4.add_cell(asse4)\n",
    "root_4.add_cell(c11)\n",
    "root_4.add_cell(c12)\n",
    "rotated_cell4 = openmc.Cell(fill=assembly_4)\n",
    "rotated_universe4 = openmc.Universe(cells=[rotated_cell4])\n",
    "asse4.fill= rotated_universe4\n",
    "asse4.rotation = (0.,0.,30.)\n",
    "#root_4.plot(width=(20,20),origin=(0,0,0),pixels=(500,500),color_by='material')#,basis= 'yz')"
   ]
  },
  {
   "cell_type": "code",
   "execution_count": 34,
   "metadata": {},
   "outputs": [],
   "source": [
    "#breed \n",
    "r=openmc.Universe(name='bredd Pin', cells=[breedfuel,breedgap,breedclad,breedgas,breedcoolant])\n",
    "#r.plot(width=(1.3, 1.3),origin=(0,0,105),pixels=(500,500))"
   ]
  },
  {
   "cell_type": "code",
   "execution_count": 35,
   "metadata": {},
   "outputs": [],
   "source": [
    "breed = openmc.HexLattice()\n",
    "breed.center = (0, 0)\n",
    "breed.pitch = [1.36]\n",
    "breed.outer= all_coolant\n",
    "breed.universes = [[r]*48,\n",
    "                   [r]*42,\n",
    "                   [r]*36,\n",
    "                   [r]*30,\n",
    "                   [r]*24,\n",
    "                   [r]*18,\n",
    "                   [r]*12,\n",
    "                   [r]*6,\n",
    "                   [r]]"
   ]
  },
  {
   "cell_type": "code",
   "execution_count": 36,
   "metadata": {},
   "outputs": [],
   "source": [
    "# cell for breed\n",
    "bree = openmc.Cell(name='bree', fill=breed)\n",
    "\n",
    "# Add boundary planes\n",
    "bree.region= -asseouter_sphere& +min_z2& -max_z2\n",
    "# Create assembly Universe\n",
    "root_breed = openmc.Universe(name='root bree')\n",
    "root_breed.add_cell(bree)\n",
    "bree_cell = openmc.Cell(fill=breed)\n",
    "bree_universe = openmc.Universe(cells=[bree_cell])\n",
    "bree.fill= bree_universe\n",
    "bree.rotation = (0.,0.,30.)\n",
    "#root_breed.plot(width=(10,10),origin=(0,0,0),pixels=(500,500),color_by='material')#,basis= 'yz')"
   ]
  },
  {
   "cell_type": "code",
   "execution_count": 37,
   "metadata": {},
   "outputs": [],
   "source": [
    "breegeom = openmc.Geometry(root_breed)\n",
    "breegeom.export_to_xml()\n",
    "#!cat geometry.xml"
   ]
  },
  {
   "cell_type": "code",
   "execution_count": 215,
   "metadata": {},
   "outputs": [],
   "source": [
    "plots= openmc.Plots([p])\n",
    "plots.export_to_xml()"
   ]
  },
  {
   "cell_type": "code",
   "execution_count": 216,
   "metadata": {},
   "outputs": [],
   "source": [
    "#openmc.plot_geometry()"
   ]
  },
  {
   "cell_type": "code",
   "execution_count": 217,
   "metadata": {},
   "outputs": [],
   "source": [
    "#!convert pinplot.ppm breedassembly.png"
   ]
  },
  {
   "cell_type": "code",
   "execution_count": 38,
   "metadata": {},
   "outputs": [],
   "source": [
    "a1 = openmc.Universe(name='assembly unit1')\n",
    "ba = openmc.Universe(name='breed unit')\n",
    "a2 = openmc.Universe(name='assembly unit2')\n",
    "a3 = openmc.Universe(name='assembly unit3')\n",
    "a4 = openmc.Universe(name='assembly unit4')\n",
    "a1.add_cell(asse)\n",
    "ba.add_cell(bree)\n",
    "a2.add_cell(asse2)\n",
    "a3.add_cell(asse3)\n",
    "a4.add_cell(asse4)"
   ]
  },
  {
   "cell_type": "code",
   "execution_count": 39,
   "metadata": {},
   "outputs": [],
   "source": [
    "#lattice\n",
    "core = openmc.HexLattice()\n",
    "core.center = (0, 0)\n",
    "core.pitch = [20.4]\n",
    "core.outer= all_coolant\n",
    "core.universes = [[ba]*30,\n",
    "                  [a4]*24,\n",
    "                  [a3]*18,\n",
    "                  [a2]*12,\n",
    "                  [a1]*6,\n",
    "                  [a1]]"
   ]
  },
  {
   "cell_type": "code",
   "execution_count": 40,
   "metadata": {},
   "outputs": [],
   "source": [
    "# Create boundary planes to surround the geometry\n",
    "coreout_sphere=openmc.Sphere(R=800,boundary_type='vacuum')\n",
    "reflector_outer= openmc.ZCylinder(R=135,boundary_type='vacuum')\n",
    "reflector_inner= openmc.ZCylinder(R=115,boundary_type='vacuum')\n",
    "min_zz = openmc.ZPlane(z0=-117.55, boundary_type='vacuum')   #-117.55\n",
    "max_zz = openmc.ZPlane(z0=+282.45, boundary_type='vacuum')   #+282.45\n",
    "min_z3 = openmc.ZPlane(z0=-67.55, boundary_type='vacuum')    #-67.55\n",
    "max_z3 = openmc.ZPlane(z0=+232.45, boundary_type='vacuum')   #+232.45\n",
    "#max_z2= 165.4\n",
    "#min_z2= -0.5"
   ]
  },
  {
   "cell_type": "code",
   "execution_count": 41,
   "metadata": {
    "scrolled": true
   },
   "outputs": [],
   "source": [
    "# Create core Cell\n",
    "corecell = openmc.Cell(name='core cell', fill=core)\n",
    "c3=openmc.Cell()\n",
    "c4=openmc.Cell()\n",
    "c5=openmc.Cell()\n",
    "c6=openmc.Cell()\n",
    "c7=openmc.Cell()\n",
    "c8=openmc.Cell()\n",
    "# Add boundary planes\n",
    "c3.fill=be\n",
    "c3.region= +max_z2 & -reflector_inner & -max_zz\n",
    "c4.fill=be\n",
    "c4.region= -min_z2 & -reflector_inner & +min_zz\n",
    "c5.region= +reflector_inner& -reflector_outer & -max_zz & +min_zz \n",
    "c5.fill=be\n",
    "c6.region= -coreout_sphere& +reflector_outer& +max_zz& -min_zz\n",
    "c6.fill=None\n",
    "c7.region= +max_z2 & -reflector_inner & -max_z3\n",
    "c7.fill=na\n",
    "c8.region= -min_z2 & -reflector_inner & +min_z3\n",
    "c8.fill=na\n",
    "corecell.region= -reflector_inner& +min_z2& -max_z2\n",
    "# Create root Universe\n",
    "root_universe = openmc.Universe(name='root core')\n",
    "root_universe.add_cell(corecell)\n",
    "root_universe.add_cell(c3)\n",
    "root_universe.add_cell(c4)\n",
    "root_universe.add_cell(c5)\n",
    "root_universe.add_cell(c6)\n",
    "root_universe.add_cell(c7)\n",
    "root_universe.add_cell(c8)\n",
    "#root_universe.plot(width=(250,250),origin=(0,0,82),pixels=(500,500),color_by='material')"
   ]
  },
  {
   "cell_type": "code",
   "execution_count": 42,
   "metadata": {},
   "outputs": [],
   "source": [
    "wholecore = openmc.Geometry(root_universe)\n",
    "wholecore.export_to_xml()\n",
    "#!cat geometry.xml"
   ]
  },
  {
   "cell_type": "code",
   "execution_count": 43,
   "metadata": {},
   "outputs": [
    {
     "ename": "NameError",
     "evalue": "name 'p' is not defined",
     "output_type": "error",
     "traceback": [
      "\u001b[0;31m---------------------------------------------------------------------------\u001b[0m",
      "\u001b[0;31mNameError\u001b[0m                                 Traceback (most recent call last)",
      "\u001b[0;32m<ipython-input-43-c9ebeef5b0ef>\u001b[0m in \u001b[0;36m<module>\u001b[0;34m()\u001b[0m\n\u001b[0;32m----> 1\u001b[0;31m \u001b[0mplots\u001b[0m\u001b[0;34m=\u001b[0m \u001b[0mopenmc\u001b[0m\u001b[0;34m.\u001b[0m\u001b[0mPlots\u001b[0m\u001b[0;34m(\u001b[0m\u001b[0;34m[\u001b[0m\u001b[0mp\u001b[0m\u001b[0;34m]\u001b[0m\u001b[0;34m)\u001b[0m\u001b[0;34m\u001b[0m\u001b[0m\n\u001b[0m\u001b[1;32m      2\u001b[0m \u001b[0mplots\u001b[0m\u001b[0;34m.\u001b[0m\u001b[0mexport_to_xml\u001b[0m\u001b[0;34m(\u001b[0m\u001b[0;34m)\u001b[0m\u001b[0;34m\u001b[0m\u001b[0m\n",
      "\u001b[0;31mNameError\u001b[0m: name 'p' is not defined"
     ]
    }
   ],
   "source": [
    "plots= openmc.Plots([p])\n",
    "plots.export_to_xml()"
   ]
  },
  {
   "cell_type": "code",
   "execution_count": 196,
   "metadata": {},
   "outputs": [
    {
     "name": "stdout",
     "output_type": "stream",
     "text": [
      "\n",
      "                               %%%%%%%%%%%%%%%\n",
      "                          %%%%%%%%%%%%%%%%%%%%%%%%\n",
      "                       %%%%%%%%%%%%%%%%%%%%%%%%%%%%%%\n",
      "                     %%%%%%%%%%%%%%%%%%%%%%%%%%%%%%%%%%\n",
      "                   %%%%%%%%%%%%%%%%%%%%%%%%%%%%%%%%%%%%%%\n",
      "                  %%%%%%%%%%%%%%%%%%%%%%%%%%%%%%%%%%%%%%%%\n",
      "                                   %%%%%%%%%%%%%%%%%%%%%%%%\n",
      "                                    %%%%%%%%%%%%%%%%%%%%%%%%\n",
      "                ###############      %%%%%%%%%%%%%%%%%%%%%%%%\n",
      "               ##################     %%%%%%%%%%%%%%%%%%%%%%%\n",
      "               ###################     %%%%%%%%%%%%%%%%%%%%%%%\n",
      "               ####################     %%%%%%%%%%%%%%%%%%%%%%\n",
      "               #####################     %%%%%%%%%%%%%%%%%%%%%\n",
      "               ######################     %%%%%%%%%%%%%%%%%%%%\n",
      "               #######################     %%%%%%%%%%%%%%%%%%\n",
      "                #######################     %%%%%%%%%%%%%%%%%\n",
      "                ######################     %%%%%%%%%%%%%%%%%\n",
      "                 ####################     %%%%%%%%%%%%%%%%%\n",
      "                   #################     %%%%%%%%%%%%%%%%%\n",
      "                    ###############     %%%%%%%%%%%%%%%%\n",
      "                      ############     %%%%%%%%%%%%%%%\n",
      "                         ########     %%%%%%%%%%%%%%\n",
      "                                     %%%%%%%%%%%\n",
      "\n",
      "                   | The OpenMC Monte Carlo Code\n",
      "         Copyright | 2011-2018 Massachusetts Institute of Technology\n",
      "           License | http://openmc.readthedocs.io/en/latest/license.html\n",
      "           Version | 0.10.0\n",
      "          Git SHA1 | c97de2985bf30acf081d5f48e156de939e46a360\n",
      "         Date/Time | 2018-09-23 12:07:27\n",
      "    OpenMP Threads | 12\n",
      "\n",
      " Reading settings XML file...\n",
      " Reading cross sections XML file...\n",
      " Reading materials XML file...\n",
      " Reading geometry XML file...\n",
      " Building neighboring cells lists for each surface...\n",
      " Reading plot XML file...\n",
      "\n",
      " =======================>     PLOTTING SUMMARY     <========================\n",
      "\n",
      " Plot ID:               1\n",
      " Plot file:             pinplot.ppm\n",
      " Universe depth:        -1\n",
      " Plot Type:             Slice\n",
      " Origin:                0.0 0.0 105.000\n",
      " Width:                 220.000 220.000\n",
      " Coloring:              Materials\n",
      " Basis:                 xy\n",
      " Pixels:                3000 3000\n",
      "\n",
      " Processing plot 1: pinplot.ppm ...\n"
     ]
    },
    {
     "data": {
      "text/plain": [
       "0"
      ]
     },
     "execution_count": 196,
     "metadata": {},
     "output_type": "execute_result"
    }
   ],
   "source": [
    "openmc.plot_geometry()"
   ]
  },
  {
   "cell_type": "code",
   "execution_count": 69,
   "metadata": {},
   "outputs": [],
   "source": [
    "!convert pinplot.ppm core1.png"
   ]
  },
  {
   "cell_type": "code",
   "execution_count": 70,
   "metadata": {},
   "outputs": [],
   "source": [
    "#point3 = openmc.stats.Point((0, 0, 82))\n",
    "#src3 = openmc.Source(space=point)"
   ]
  },
  {
   "cell_type": "code",
   "execution_count": null,
   "metadata": {},
   "outputs": [],
   "source": [
    "tallies= openmc.Tallies()\n",
    "# Create mesh which will be used for tally\n",
    "mesh_core= openmc.Mesh()\n",
    "mesh_core.dimension = [21,1,1]\n",
    "mesh_core.lower_left=(-100,-100,0)\n",
    "mesh_core.upper_right=(100,100,160)\n",
    "# Create filter for tally\n",
    "mesh_filtercore = openmc.MeshFilter(mesh_core)\n",
    "core_filter=openmc.UniverseFilter([a1,a2,a3,a4,ba])\n",
    "energy_filter = openmc.EnergyFilter([0.0,1.0,1.0e5,2.0e7])\n",
    "# Create mesh tally to score flux and fission rate\n",
    "tally_core = openmc.Tally(name='flux')\n",
    "tally_core.filters = [mesh_filtercore]\n",
    "tally_core.scores = ['fission-q-prompt']\n",
    "\n",
    "tallies.append(tally_core)\n",
    "tallies.export_to_xml()"
   ]
  },
  {
   "cell_type": "code",
   "execution_count": 44,
   "metadata": {},
   "outputs": [],
   "source": [
    "coretest = openmc.Settings()\n",
    "coretest.batches =40                   \n",
    "coretest.inactive =10                 \n",
    "coretest.particles = 10000\n",
    "\n",
    "core_dist = openmc.stats.Box((-10,-10,60),(10,10,70),only_fissionable=True)\n",
    "coretest.source = openmc.source.Source(space=core_dist)"
   ]
  },
  {
   "cell_type": "code",
   "execution_count": 45,
   "metadata": {},
   "outputs": [],
   "source": [
    "coretest.export_to_xml()\n",
    "# !cat coretest.xml"
   ]
  },
  {
   "cell_type": "code",
   "execution_count": 46,
   "metadata": {},
   "outputs": [
    {
     "name": "stdout",
     "output_type": "stream",
     "text": [
      "\n",
      "                               %%%%%%%%%%%%%%%\n",
      "                          %%%%%%%%%%%%%%%%%%%%%%%%\n",
      "                       %%%%%%%%%%%%%%%%%%%%%%%%%%%%%%\n",
      "                     %%%%%%%%%%%%%%%%%%%%%%%%%%%%%%%%%%\n",
      "                   %%%%%%%%%%%%%%%%%%%%%%%%%%%%%%%%%%%%%%\n",
      "                  %%%%%%%%%%%%%%%%%%%%%%%%%%%%%%%%%%%%%%%%\n",
      "                                   %%%%%%%%%%%%%%%%%%%%%%%%\n",
      "                                    %%%%%%%%%%%%%%%%%%%%%%%%\n",
      "                ###############      %%%%%%%%%%%%%%%%%%%%%%%%\n",
      "               ##################     %%%%%%%%%%%%%%%%%%%%%%%\n",
      "               ###################     %%%%%%%%%%%%%%%%%%%%%%%\n",
      "               ####################     %%%%%%%%%%%%%%%%%%%%%%\n",
      "               #####################     %%%%%%%%%%%%%%%%%%%%%\n",
      "               ######################     %%%%%%%%%%%%%%%%%%%%\n",
      "               #######################     %%%%%%%%%%%%%%%%%%\n",
      "                #######################     %%%%%%%%%%%%%%%%%\n",
      "                ######################     %%%%%%%%%%%%%%%%%\n",
      "                 ####################     %%%%%%%%%%%%%%%%%\n",
      "                   #################     %%%%%%%%%%%%%%%%%\n",
      "                    ###############     %%%%%%%%%%%%%%%%\n",
      "                      ############     %%%%%%%%%%%%%%%\n",
      "                         ########     %%%%%%%%%%%%%%\n",
      "                                     %%%%%%%%%%%\n",
      "\n",
      "                   | The OpenMC Monte Carlo Code\n",
      "         Copyright | 2011-2018 Massachusetts Institute of Technology\n",
      "           License | http://openmc.readthedocs.io/en/latest/license.html\n",
      "           Version | 0.10.0\n",
      "          Git SHA1 | c97de2985bf30acf081d5f48e156de939e46a360\n",
      "         Date/Time | 2018-09-23 12:13:06\n",
      "    OpenMP Threads | 12\n",
      "\n",
      " Reading settings XML file...\n",
      " Reading cross sections XML file...\n",
      " Reading materials XML file...\n",
      " Reading geometry XML file...\n",
      " Building neighboring cells lists for each surface...\n",
      " Reading U235 from /home/chris/Downloads/nndc_hdf5/U235.h5\n",
      " Reading U238 from /home/chris/Downloads/nndc_hdf5/U238.h5\n",
      " Reading O16 from /home/chris/Downloads/nndc_hdf5/O16.h5\n",
      " Reading Pu238 from /home/chris/Downloads/nndc_hdf5/Pu238.h5\n",
      " Reading Pu239 from /home/chris/Downloads/nndc_hdf5/Pu239.h5\n",
      " Reading Pu240 from /home/chris/Downloads/nndc_hdf5/Pu240.h5\n",
      " Reading Pu241 from /home/chris/Downloads/nndc_hdf5/Pu241.h5\n",
      " Reading Pu242 from /home/chris/Downloads/nndc_hdf5/Pu242.h5\n",
      " Reading Fe54 from /home/chris/Downloads/nndc_hdf5/Fe54.h5\n",
      " Reading Fe56 from /home/chris/Downloads/nndc_hdf5/Fe56.h5\n",
      " Reading Fe57 from /home/chris/Downloads/nndc_hdf5/Fe57.h5\n",
      " Reading Fe58 from /home/chris/Downloads/nndc_hdf5/Fe58.h5\n",
      " Reading Cr50 from /home/chris/Downloads/nndc_hdf5/Cr50.h5\n",
      " Reading Cr52 from /home/chris/Downloads/nndc_hdf5/Cr52.h5\n",
      " Reading Cr53 from /home/chris/Downloads/nndc_hdf5/Cr53.h5\n",
      " Reading Cr54 from /home/chris/Downloads/nndc_hdf5/Cr54.h5\n",
      " Reading Ni58 from /home/chris/Downloads/nndc_hdf5/Ni58.h5\n",
      " Reading Ni60 from /home/chris/Downloads/nndc_hdf5/Ni60.h5\n",
      " Reading Ni61 from /home/chris/Downloads/nndc_hdf5/Ni61.h5\n",
      " Reading Ni62 from /home/chris/Downloads/nndc_hdf5/Ni62.h5\n",
      " Reading Ni64 from /home/chris/Downloads/nndc_hdf5/Ni64.h5\n",
      " Reading He4 from /home/chris/Downloads/nndc_hdf5/He4.h5\n",
      " Reading H1 from /home/chris/Downloads/nndc_hdf5/H1.h5\n",
      " Reading Na23 from /home/chris/Downloads/nndc_hdf5/Na23.h5\n",
      " Reading K39 from /home/chris/Downloads/nndc_hdf5/K39.h5\n",
      " Reading K40 from /home/chris/Downloads/nndc_hdf5/K40.h5\n",
      " Reading K41 from /home/chris/Downloads/nndc_hdf5/K41.h5\n",
      " Reading Pb204 from /home/chris/Downloads/nndc_hdf5/Pb204.h5\n",
      " Reading Pb206 from /home/chris/Downloads/nndc_hdf5/Pb206.h5\n",
      " Reading Pb207 from /home/chris/Downloads/nndc_hdf5/Pb207.h5\n",
      " Reading Pb208 from /home/chris/Downloads/nndc_hdf5/Pb208.h5\n",
      " Reading Bi209 from /home/chris/Downloads/nndc_hdf5/Bi209.h5\n",
      " Reading B10 from /home/chris/Downloads/nndc_hdf5/B10.h5\n",
      " Reading B11 from /home/chris/Downloads/nndc_hdf5/B11.h5\n",
      " Reading C0 from /home/chris/Downloads/nndc_hdf5/C0.h5\n",
      " Reading Be9 from /home/chris/Downloads/nndc_hdf5/Be9.h5\n",
      " Reading O17 from /home/chris/Downloads/nndc_hdf5/O17.h5\n",
      " Reading Si28 from /home/chris/Downloads/nndc_hdf5/Si28.h5\n",
      " Reading Si29 from /home/chris/Downloads/nndc_hdf5/Si29.h5\n",
      " Reading Si30 from /home/chris/Downloads/nndc_hdf5/Si30.h5\n",
      " Reading Mn55 from /home/chris/Downloads/nndc_hdf5/Mn55.h5\n",
      " Reading Mo100 from /home/chris/Downloads/nndc_hdf5/Mo100.h5\n",
      " Reading Mo92 from /home/chris/Downloads/nndc_hdf5/Mo92.h5\n",
      " Reading Mo94 from /home/chris/Downloads/nndc_hdf5/Mo94.h5\n",
      " Reading Mo95 from /home/chris/Downloads/nndc_hdf5/Mo95.h5\n",
      " Reading Mo96 from /home/chris/Downloads/nndc_hdf5/Mo96.h5\n",
      " Reading Mo97 from /home/chris/Downloads/nndc_hdf5/Mo97.h5\n",
      " Reading Mo98 from /home/chris/Downloads/nndc_hdf5/Mo98.h5\n",
      " Reading c_H_in_H2O from /home/chris/Downloads/nndc_hdf5/c_H_in_H2O.h5\n",
      " Maximum neutron transport energy: 2.00000E+07 eV for U235\n",
      " Writing summary.h5 file...\n",
      " Initializing source particles...\n",
      "\n",
      " ====================>     K EIGENVALUE SIMULATION     <====================\n",
      "\n",
      "  Bat./Gen.      k            Average k         \n",
      "  =========   ========   ====================   \n",
      "        1/1    0.93577                       \n",
      "        2/1    1.04092                       \n",
      "        3/1    1.10123                       \n",
      "        4/1    1.11157                       \n",
      "        5/1    1.11684                       \n",
      "        6/1    1.10345                       \n",
      "        7/1    1.10156                       \n",
      "        8/1    1.10638                       \n",
      "        9/1    1.11198                       \n",
      "       10/1    1.11587                       \n",
      "       11/1    1.11636                       \n",
      "       12/1    1.10393    1.11015 +/- 0.00622\n",
      "       13/1    1.10517    1.10849 +/- 0.00395\n",
      "       14/1    1.11375    1.10980 +/- 0.00309\n",
      "       15/1    1.11252    1.11035 +/- 0.00245\n",
      "       16/1    1.09807    1.10830 +/- 0.00286\n",
      "       17/1    1.09944    1.10703 +/- 0.00273\n",
      "       18/1    1.09442    1.10546 +/- 0.00284\n",
      "       19/1    1.09448    1.10424 +/- 0.00279\n",
      "       20/1    1.11270    1.10508 +/- 0.00263\n",
      "       21/1    1.12996    1.10734 +/- 0.00328\n",
      "       22/1    1.10025    1.10675 +/- 0.00306\n",
      "       23/1    1.09093    1.10554 +/- 0.00306\n",
      "       24/1    1.10891    1.10578 +/- 0.00285\n",
      "       25/1    1.11339    1.10628 +/- 0.00270\n",
      "       26/1    1.10130    1.10597 +/- 0.00254\n",
      "       27/1    1.10120    1.10569 +/- 0.00241\n",
      "       28/1    1.09769    1.10525 +/- 0.00231\n",
      "       29/1    1.10378    1.10517 +/- 0.00219\n",
      "       30/1    1.08611    1.10422 +/- 0.00228\n",
      "       31/1    1.11128    1.10455 +/- 0.00220\n",
      "       32/1    1.09263    1.10401 +/- 0.00216\n",
      "       33/1    1.09728    1.10372 +/- 0.00209\n",
      "       34/1    1.08951    1.10313 +/- 0.00209\n",
      "       35/1    1.09890    1.10296 +/- 0.00201\n",
      "       36/1    1.11063    1.10325 +/- 0.00195\n",
      "       37/1    1.10260    1.10323 +/- 0.00188\n",
      "       38/1    1.08619    1.10262 +/- 0.00191\n",
      "       39/1    1.10410    1.10267 +/- 0.00184\n",
      "       40/1    1.10265    1.10267 +/- 0.00178\n",
      " Creating state point statepoint.40.h5...\n",
      "\n",
      " =======================>     TIMING STATISTICS     <=======================\n",
      "\n",
      " Total time for initialization     =  2.0494E+00 seconds\n",
      "   Reading cross sections          =  2.0019E+00 seconds\n",
      " Total time in simulation          =  4.0266E+01 seconds\n",
      "   Time in transport only          =  4.0198E+01 seconds\n",
      "   Time in inactive batches        =  1.0198E+01 seconds\n",
      "   Time in active batches          =  3.0068E+01 seconds\n",
      "   Time synchronizing fission bank =  1.2490E-02 seconds\n",
      "     Sampling source sites         =  9.0464E-03 seconds\n",
      "     SEND/RECV source sites        =  3.1508E-03 seconds\n",
      "   Time accumulating tallies       =  2.7260E-05 seconds\n",
      " Total time for finalization       =  1.2860E-04 seconds\n",
      " Total time elapsed                =  4.2376E+01 seconds\n",
      " Calculation Rate (inactive)       =  9806.09 neutrons/second\n",
      " Calculation Rate (active)         =  9977.32 neutrons/second\n",
      "\n",
      " ============================>     RESULTS     <============================\n",
      "\n",
      " k-effective (Collision)     =  1.10131 +/-  0.00162\n",
      " k-effective (Track-length)  =  1.10267 +/-  0.00178\n",
      " k-effective (Absorption)    =  1.09953 +/-  0.00183\n",
      " Combined k-effective        =  1.10053 +/-  0.00134\n",
      " Leakage Fraction            =  0.17311 +/-  0.00060\n",
      "\n"
     ]
    },
    {
     "data": {
      "text/plain": [
       "0"
      ]
     },
     "execution_count": 46,
     "metadata": {},
     "output_type": "execute_result"
    }
   ],
   "source": [
    "openmc.run()"
   ]
  },
  {
   "cell_type": "code",
   "execution_count": null,
   "metadata": {},
   "outputs": [],
   "source": []
  },
  {
   "cell_type": "code",
   "execution_count": null,
   "metadata": {},
   "outputs": [],
   "source": []
  },
  {
   "cell_type": "code",
   "execution_count": null,
   "metadata": {},
   "outputs": [],
   "source": []
  }
 ],
 "metadata": {
  "kernelspec": {
   "display_name": "Python 3",
   "language": "python",
   "name": "python3"
  },
  "language_info": {
   "codemirror_mode": {
    "name": "ipython",
    "version": 3
   },
   "file_extension": ".py",
   "mimetype": "text/x-python",
   "name": "python",
   "nbconvert_exporter": "python",
   "pygments_lexer": "ipython3",
   "version": "3.7.4"
  }
 },
 "nbformat": 4,
 "nbformat_minor": 2
}
